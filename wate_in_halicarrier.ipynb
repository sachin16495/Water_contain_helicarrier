{
 "cells": [
  {
   "cell_type": "code",
   "execution_count": 1,
   "metadata": {},
   "outputs": [],
   "source": [
    "import heapq\n",
    "import numpy as np"
   ]
  },
  {
   "cell_type": "code",
   "execution_count": 2,
   "metadata": {},
   "outputs": [],
   "source": [
    "def WaterStoredInPlatform(platform):\n",
    "    print(\"Input\")\n",
    "    print(platform)\n",
    "    m,n = platform.shape\n",
    "    if m == 0:\n",
    "        return 0\n",
    "    if n == 0:\n",
    "        return 0\n",
    "\n",
    "    visited = [[0] * n for _ in range(m)]\n",
    "    water = 0\n",
    "    # It responsible for heap storage\n",
    "    min_height_lookup = []\n",
    "\n",
    "    # Traverse the input arry from corners\n",
    "    for row in range(m):\n",
    "        for column in range(n):\n",
    "\n",
    "            if (row == 0 or column == 0 or row == m - 1 or column == n - 1):\n",
    "                # Mark the entry as having been visited\n",
    "               \n",
    "                visited[row][column] = 1\n",
    "                heapq.heappush(min_height_lookup, (platform[row,column], row, column))\n",
    "                # Push the height along with the row, column indices on to the heap\n",
    "                \n",
    "    # Traverse over the heap and  check the neighbors of the minimum height elements \n",
    "    # Thus, we start at the boundary of the matrix and keep going into the inner layers\n",
    "    waters=[]\n",
    "    while min_height_lookup:\n",
    "        min_height, min_row, min_column = heapq.heappop(min_height_lookup)\n",
    "        # Check the neighbors of each element\n",
    "\n",
    "        for r, c in ((min_row + 1, min_column), (min_row - 1, min_column), (min_row, min_column + 1), (min_row, min_column - 1)):\n",
    "            if 0 <= r <= m - 1 and 0 <= c <= n - 1 and not visited[r][c]:\n",
    "            \n",
    "                # If the neighbor is of lesser height than that of the current element,\n",
    "                # water will collect there. Else it will flow away.\n",
    "                # For each neighbor, the water level will be equal to the difference between the heights\n",
    "                # Check if neighbour is zero then pop the waters from list\n",
    "                if r>=0 and c>=0:\n",
    "                    if platform[r,c]==0:\n",
    "                        waters.pop()\n",
    "                        continue\n",
    "                    else:\n",
    "                        water += max(0, min_height - platform[r,c])\n",
    "                        waters.append(water)\n",
    "                        # Store the taller of the heights betwen the current element and the neighbor on the heap\n",
    "                        new_height = max(min_height, platform[r,c])\n",
    "                        heapq.heappush(min_height_lookup, (new_height, r, c))\n",
    "                \n",
    "                        # Mark the neighbor as having been visited\n",
    "                        visited[r][c] = 1\n",
    "\n",
    "                elif r+1<m and c<n and c>=0:\n",
    "                    if platform[r+1,c]==0:\n",
    "                        waters.pop()\n",
    "                        continue\n",
    "                    else:\n",
    "                        water += max(0, min_height - platform[r,c])\n",
    "                        waters.append(water)\n",
    "                        new_height = max(min_height, platform[r,c])\n",
    "                        heapq.heappush(min_height_lookup, (new_height, r, c))\n",
    "                        visited[r][c] = 1\n",
    "                elif r-1<m and c<n and c>=0 and r>=0:\n",
    "                    if platform[r-1,c]==0:\n",
    "                        waters.pop()\n",
    "                        continue\n",
    "                    else:\n",
    "                        water += max(0, min_height - platform[r,c])\n",
    "                        waters.append(water)\n",
    "                        new_height = max(min_height, platform[r,c])\n",
    "                        heapq.heappush(min_height_lookup, (new_height, r, c))\n",
    "                        visited[r][c] = 1\n",
    "\n",
    "                elif r<m and c+1<n and  r>0:\n",
    "                    if platform[r,c+1]==0:\n",
    "                        waters.pop()\n",
    "                        continue\n",
    "                    else:\n",
    "                        water += max(0, min_height - platform[r,c])\n",
    "                        waters.append(water)\n",
    "                        \n",
    "                        new_height = max(min_height, platform[r,c])\n",
    "                        heapq.heappush(min_height_lookup, (new_height, r, c))\n",
    "                        visited[r][c] = 1\n",
    "                elif r<m and c-1<n and  c>=0 and r>=0:\n",
    "                    if platform[r,c+1]==0:\n",
    "                        waters.pop()\n",
    "                        continue\n",
    "                    else:\n",
    "                        water += max(0, min_height - platform[r,c])\n",
    "                        waters.append(water)\n",
    "                        new_height = max(min_height, platform[r,c])\n",
    "                        heapq.heappush(min_height_lookup, (new_height, r, c))\n",
    "                        visited[r][c] = 1\n",
    "                elif r-1<m and c-1<n and  c>=0 and r>=0:\n",
    "                    if platform[r-1,c-1]==0:\n",
    "                        waters.pop()\n",
    "                        continue\n",
    "                    else:\n",
    "                        water += max(0, min_height - platform[r,c])\n",
    "                        waters.append(water)\n",
    "                        new_height = max(min_height, platform[r,c])\n",
    "                        heapq.heappush(min_height_lookup, (new_height, r, c))\n",
    "                        visited[r][c] = 1\n",
    "                elif r+1<m and c+1<n and  c>=0 and r>=0:\n",
    "                    if platform[r+1,c+1]==0:\n",
    "                        waters.pop()\n",
    "                        continue\n",
    "                    else:\n",
    "                        water += max(0, min_height - platform[r,c])\n",
    "                        waters.append(water)\n",
    "                        new_height = max(min_height, platform[r,c])\n",
    "                        heapq.heappush(min_height_lookup, (new_height, r, c))\n",
    "                        visited[r][c] = 1\n",
    "                \n",
    "                \n",
    "    #print(waters)\n",
    "    \n",
    "    return waters.pop()"
   ]
  },
  {
   "cell_type": "code",
   "execution_count": 4,
   "metadata": {},
   "outputs": [
    {
     "name": "stdout",
     "output_type": "stream",
     "text": [
      "Water Hold by Platform 1\n",
      "Storage\n",
      "Input\n",
      "[[2 2 2]\n",
      " [2 2 2]\n",
      " [2 2 2]]\n",
      "0\n"
     ]
    }
   ],
   "source": [
    "platform1=np.array([[2,2,2],[2,2,2],[2,2,2]])\n",
    "print(\"Water Hold by Platform 1\")\n",
    "print(\"Storage\")\n",
    "print(WaterStoredInPlatform(platform1))"
   ]
  },
  {
   "cell_type": "code",
   "execution_count": 5,
   "metadata": {},
   "outputs": [
    {
     "name": "stdout",
     "output_type": "stream",
     "text": [
      "Water Hold by Platform 2\n",
      "Input\n",
      "[[2 2 2 2]\n",
      " [2 1 2 1]\n",
      " [2 2 2 1]]\n",
      "1\n"
     ]
    }
   ],
   "source": [
    "print(\"Water Hold by Platform 2\")\n",
    "platform2=np.array([[2,2,2,2],[2,1,2,1],[2,2,2,1]])\n",
    "print(WaterStoredInPlatform(platform2))"
   ]
  },
  {
   "cell_type": "code",
   "execution_count": 6,
   "metadata": {},
   "outputs": [
    {
     "name": "stdout",
     "output_type": "stream",
     "text": [
      "Water Hold by Platform 3\n",
      "Input\n",
      "[[3 3 3 3 3 3]\n",
      " [3 1 2 3 1 3]\n",
      " [3 1 2 3 1 3]\n",
      " [3 3 3 1 3 3]]\n",
      "10\n"
     ]
    }
   ],
   "source": [
    "print(\"Water Hold by Platform 3\")\n",
    "platform3=np.array([[3,3,3,3,3,3],[3,1,2,3,1,3],[3,1,2,3,1,3],[3,3,3,1,3,3]])\n",
    "print(WaterStoredInPlatform(platform3))"
   ]
  },
  {
   "cell_type": "code",
   "execution_count": 8,
   "metadata": {},
   "outputs": [
    {
     "name": "stdout",
     "output_type": "stream",
     "text": [
      "Water Hold by Platform 4\n",
      "Input\n",
      "[[3 3 3 3 5 3]\n",
      " [3 0 2 3 1 3]\n",
      " [3 1 2 3 1 3]\n",
      " [3 3 3 1 3 3]]\n",
      "6\n"
     ]
    }
   ],
   "source": [
    "#Working on correction\n",
    "print(\"Water Hold by Platform 4\")\n",
    "platform4=np.array([[3,3,3,3,5,3],[3,0,2,3,1,3],[3,1,2,3,1,3],[3,3,3,1,3,3]])\n",
    "print(WaterStoredInPlatform(platform4))"
   ]
  },
  {
   "cell_type": "code",
   "execution_count": 9,
   "metadata": {},
   "outputs": [
    {
     "name": "stdout",
     "output_type": "stream",
     "text": [
      "Water Hold by Platform 5\n",
      "Input\n",
      "[[5 5 5 5 5]\n",
      " [9 1 1 1 5]\n",
      " [5 1 5 1 5]\n",
      " [5 1 1 1 5]\n",
      " [5 5 5 5 5]]\n",
      "32\n"
     ]
    }
   ],
   "source": [
    "print(\"Water Hold by Platform 5\")\n",
    "platform5=np.array([[ 5 , 5 , 5 , 5 , 5],[ 9 , 1 , 1 , 1 , 5],[ 5 , 1 , 5 , 1 , 5],[ 5 , 1 , 1 , 1 , 5],[ 5 , 5 , 5 , 5 , 5]])\n",
    "print(WaterStoredInPlatform(platform5))"
   ]
  },
  {
   "cell_type": "code",
   "execution_count": null,
   "metadata": {},
   "outputs": [],
   "source": []
  }
 ],
 "metadata": {
  "kernelspec": {
   "display_name": "Python 2",
   "language": "python",
   "name": "python2"
  },
  "language_info": {
   "codemirror_mode": {
    "name": "ipython",
    "version": 2
   },
   "file_extension": ".py",
   "mimetype": "text/x-python",
   "name": "python",
   "nbconvert_exporter": "python",
   "pygments_lexer": "ipython2",
   "version": "2.7.15rc1"
  }
 },
 "nbformat": 4,
 "nbformat_minor": 2
}
